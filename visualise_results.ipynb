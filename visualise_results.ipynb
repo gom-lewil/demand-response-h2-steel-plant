{
 "cells": [
  {
   "cell_type": "markdown",
   "id": "28856b03",
   "metadata": {},
   "source": [
    "# Visualise results from Optimisation of a year\n",
    "This notebook shows the conducted analysis for the model results for each steel plant setup and its production with 2012 data for the whole year.  "
   ]
  },
  {
   "cell_type": "code",
   "execution_count": null,
   "id": "83ba07e6",
   "metadata": {},
   "outputs": [],
   "source": [
    "import flexible_batch_production as fbp\n",
    "import numpy as np\n",
    "import matplotlib.pyplot as plt"
   ]
  },
  {
   "cell_type": "markdown",
   "id": "b98cac52",
   "metadata": {},
   "source": [
    "## Subsequent visualisation of one day or week in model period"
   ]
  },
  {
   "cell_type": "markdown",
   "id": "aefd2cc0",
   "metadata": {},
   "source": [
    "First the model results, safed in the folder '1_output' need to be loaded with the corresponding method"
   ]
  },
  {
   "cell_type": "code",
   "execution_count": null,
   "id": "204f826a",
   "metadata": {},
   "outputs": [],
   "source": [
    "model_data = fbp.load_model('2012_flex_profit')"
   ]
  },
  {
   "cell_type": "markdown",
   "id": "0d327fb9",
   "metadata": {},
   "source": [
    "The time range is selected accordingly for one day"
   ]
  },
  {
   "cell_type": "code",
   "execution_count": null,
   "id": "1e41ca93",
   "metadata": {},
   "outputs": [],
   "source": [
    "start = 11232  # 19th March 2012 00:00\n",
    "figure = fbp.analyse.loaded_model_summary_plot(model_data, np.datetime64('2012-01-01T00:00'), \n",
    "                                               time_range=range(start, start+144)) "
   ]
  },
  {
   "cell_type": "markdown",
   "id": "3691fe09",
   "metadata": {},
   "source": [
    "To analyse longer time series it is helpful to summarize model data into hourly chunks. The method hourlize_model_data does that by forming the mean over one hour chunks. "
   ]
  },
  {
   "cell_type": "code",
   "execution_count": null,
   "id": "b0d4b02c",
   "metadata": {},
   "outputs": [],
   "source": [
    "hour_model_data = fbp.hourlize_model_data(\n",
    "    model_data, step_size=6, \n",
    "    do_not_hourlize = ['minutes_per_step', 'mass_production', 'mean_power_exchange']\n",
    ")\n",
    "\n",
    "start = 1872 # 19th March 2012 in hourly model\n",
    "figure = fbp.loaded_model_summary_plot(\n",
    "    hour_model_data, np.datetime64('2012-01-01T00:00'), \n",
    "    timedelta=np.timedelta64(60, 'm'),\n",
    "    time_range=range(start, start+168)\n",
    "                                        )"
   ]
  },
  {
   "cell_type": "markdown",
   "id": "0b2b7b93",
   "metadata": {},
   "source": [
    "## Steel Plant Scenario Model Results Hourly Sorted\n",
    "The following cell generates a hourly, annual summary plot as described in the thesis on this model."
   ]
  },
  {
   "cell_type": "code",
   "execution_count": null,
   "id": "60c11f6d",
   "metadata": {},
   "outputs": [],
   "source": [
    "def what_to_sort(scenario): \n",
    "    if 'eafonly' in scenario:\n",
    "      return ['minutes_per_step','mass_production','mean_power_exchange']\n",
    "    else:\n",
    "        return ['minutes_per_step','mass_production','mean_power_exchange', 'cost', \n",
    "                'power_from_grid', 'power_to_grid']    \n",
    "\n",
    "scenarios = ['flex_profit', 'const_profit', 'eafonly_profit', \n",
    "             'flex_stability', 'const_stability', 'eafonly_stability']\n",
    "titles = ['Demand Response Steel Making - Maximising Profits', \n",
    "          'Constant Steel Making - Maximising Profits', \n",
    "          'H2-DRI Import - Maximising Profits', \n",
    "          'Demand Response Steel Making - Minimise Goal Load Deviation', \n",
    "          'Constant Steel Making - Minimise Goal Load Deviation', \n",
    "          'H2-DRI Import - Minimise Goal Load Deviation'\n",
    "          ]\n",
    "\n",
    "for scenario, title in zip(scenarios, titles):\n",
    "    model_data = fbp.load.load_model(f'2012_{scenario}')\n",
    "    figure = fbp.analyse.sorted_model_summary_plot(\n",
    "      fbp.hourlize_model_data(model_data), fill_line=0, alpha=1, title=title, \n",
    "      do_not_sort=what_to_sort(scenario)\n",
    "    )\n",
    "    figure.savefig(f'visualisations/hourlized/{scenario}', dpi=300)"
   ]
  },
  {
   "cell_type": "markdown",
   "id": "7966e8df",
   "metadata": {},
   "source": [
    "## Further Model Analysis\n",
    "\n",
    "For the further analysis of the model results several variables are examined in regards to input \n",
    "parameter and other variables at that time steps. As the total plant downtime is an important \n",
    "event to examine the following method is developed for analysis."
   ]
  },
  {
   "cell_type": "code",
   "execution_count": null,
   "id": "dd7c7b0b",
   "metadata": {},
   "outputs": [],
   "source": [
    "def calc_pause_lengths(data):\n",
    "    \"\"\" Calculates and returns the length of parts with continous value of 0 for given data and \n",
    "    the indexes for each step in a chunk\"\"\"\n",
    "    zero_chunk_lengths = []\n",
    "    zero_chunk_indexes = []\n",
    "\n",
    "    i_pointer = 0\n",
    "    while i_pointer < len(data):\n",
    "        if data[i_pointer] == 0: # if a value is zero\n",
    "            i_zero_chunk_start = i_pointer # safe index as start of possible zero chunk\n",
    "            i_zero_chunk_end = i_pointer # declare index pointer to search for end of zero chunk\n",
    "            while i_zero_chunk_end < len(data) and data[i_zero_chunk_end] == 0: # search for end of zero chunk\n",
    "                i_zero_chunk_end += 1\n",
    "\n",
    "            zero_chunk_length = len(data[i_zero_chunk_start:i_zero_chunk_end]) / 6  # \n",
    "            zero_chunk_lengths.append(zero_chunk_length)\n",
    "            zero_chunk_indexes.append([i for i in range(i_zero_chunk_start, i_zero_chunk_end+1)])\n",
    "\n",
    "            i_pointer = i_zero_chunk_end + 1\n",
    "        else: # if there is not a zero value\n",
    "            i_pointer += 1 # continue looking for zero chunks\n",
    "    return zero_chunk_lengths, zero_chunk_indexes"
   ]
  },
  {
   "cell_type": "markdown",
   "id": "398efb52",
   "metadata": {},
   "source": [
    "### Wind generation during Plant Downtimes"
   ]
  },
  {
   "cell_type": "code",
   "execution_count": null,
   "id": "2443eb7f",
   "metadata": {},
   "outputs": [],
   "source": [
    "scenarios = ['flex_profit', 'const_profit', 'eafonly_profit', \n",
    "             'flex_stability', 'const_stability', 'eafonly_stability']\n",
    "colors = ['#b0e3e6', '#ff7b59', '#edc86c', '#b0e3e6', '#ff7b59', '#edc86c']\n",
    "\n",
    "figure, (axes_1, axes_2) = plt.subplots(nrows=2, ncols=3, sharex=False, figsize=(9, 6))\n",
    "axes = np.append(axes_1, axes_2)\n",
    "\n",
    "box_plot_liste = []\n",
    "\n",
    "for scenario, ax, color in zip(scenarios, axes, colors): \n",
    "    model_data = fbp.load_model(f'2012_{scenario}')\n",
    "    plant_load = [sum(x) for x in zip(model_data['electrolyser_load'], \n",
    "                                    model_data['steelmaking_load'], \n",
    "                                    model_data['rolling_load'])]\n",
    "    downtime_length, downtime_indexes = calc_pause_lengths(plant_load)\n",
    "    downtime_generation = [\n",
    "        np.mean(model_data['renewable_generation'][downtime_i[0]:downtime_i[-1]]) \n",
    "        for downtime_i in downtime_indexes\n",
    "    ]\n",
    "    ax.scatter(downtime_generation, downtime_length, color=color, s=1)\n",
    "    ax.annotate(f'n = {len(downtime_length)}', xy=(0.6, 0.8), xycoords='axes fraction')\n",
    "\n",
    "axes[0].set_title('Demand Response Steel Making')\n",
    "axes[1].set_title('Constant Steel Making')\n",
    "axes[2].set_title('H2-DRI Import')\n",
    "\n",
    "pad = 20 # in points\n",
    "axes[0].annotate(\n",
    "    'Maximise Profit', xy=(0, 0.5), xytext=(-ax.yaxis.labelpad - pad, 0),\n",
    "    xycoords=axes[0].yaxis.label, textcoords='offset points', size='large', \n",
    "    ha='right', va='center'\n",
    ")\n",
    "axes[3].annotate(\n",
    "    'Minimise Deviation\\nof Goal Load', xy=(0, 0.5), xytext=(-ax.yaxis.labelpad - pad, 0),\n",
    "    xycoords=axes[3].yaxis.label, textcoords='offset points', size='large', \n",
    "    ha='right', va='center'\n",
    ")\n",
    "\n",
    "figure.supylabel('Steel Plant Downtime Duration in hours', x=0.066, y=0.5, fontsize='large')\n",
    "figure.supxlabel('Mean Renewable Power Generation during Downtime in MW', fontsize='large')\n",
    "figure.savefig(f'visualisations/wind_in_downtime', bbox_inches='tight' , dpi=300)"
   ]
  },
  {
   "cell_type": "markdown",
   "id": "63ebaab4",
   "metadata": {},
   "source": [
    "### Electricity Prices during Plant Downtimes"
   ]
  },
  {
   "cell_type": "code",
   "execution_count": null,
   "id": "257b26fa",
   "metadata": {},
   "outputs": [],
   "source": [
    "scenarios = ['flex_profit', 'const_profit', 'eafonly_profit', \n",
    "             'flex_stability', 'const_stability', 'eafonly_stability']\n",
    "colors = ['#b0e3e6', '#ff7b59', '#edc86c', '#b0e3e6', '#ff7b59', '#edc86c']\n",
    "\n",
    "figure, (axes_1, axes_2) = plt.subplots(nrows=2, ncols=3, sharex='col', figsize=(9, 6))\n",
    "axes = np.append(axes_1, axes_2)\n",
    "\n",
    "box_plot_liste = []\n",
    "\n",
    "for scenario, ax, color in zip(scenarios, axes, colors): \n",
    "    model_data = fbp.load_model(f'2012_{scenario}')\n",
    "    plant_load = [sum(x) for x in zip(model_data['electrolyser_load'], \n",
    "                                    model_data['steelmaking_load'], \n",
    "                                    model_data['rolling_load'])]\n",
    "    downtime_length, downtime_indexes = calc_pause_lengths(plant_load)\n",
    "    downtime_price = [\n",
    "        np.mean(model_data['electricity_price'][downtime_i[0]:downtime_i[-1]]) \n",
    "        for downtime_i in downtime_indexes\n",
    "    ]\n",
    "    if scenario == 'eafonly_stability':\n",
    "        ax = axes[5]\n",
    "        index_to_del = downtime_price.index(-156.84857142857143)\n",
    "        del downtime_price[index_to_del]\n",
    "        del downtime_length[index_to_del]\n",
    "    ax.scatter(downtime_price, downtime_length, color=color, s=1)\n",
    "\n",
    "axes[0].set_title('Demand Response Steel Making')\n",
    "axes[1].set_title('Constant Steel Making')\n",
    "axes[2].set_title('H2-DRI Import')\n",
    "\n",
    "pad = 20 # in points\n",
    "axes[0].annotate(\n",
    "    'Maximise Profit', xy=(0, 0.5), xytext=(-ax.yaxis.labelpad - pad, 0),\n",
    "    xycoords=axes[0].yaxis.label, textcoords='offset points', size='large', \n",
    "    ha='right', va='center'\n",
    ")\n",
    "axes[3].annotate(\n",
    "    'Minimise Deviation\\nof Goal Load', xy=(0, 0.5), xytext=(-ax.yaxis.labelpad - pad, 0),\n",
    "    xycoords=axes[3].yaxis.label, textcoords='offset points', size='large', \n",
    "    ha='right', va='center'\n",
    ")\n",
    "\n",
    "figure.supylabel('Steel Ploant Downtime Duration in hours', x=0.066, y=0.5,  fontsize='large')\n",
    "figure.supxlabel('Mean Electricity Price during Downtime in €', fontsize='large')\n",
    "figure.savefig(\"visualisations/price_in_downtime.png\", bbox_inches='tight', dpi=300)"
   ]
  },
  {
   "cell_type": "markdown",
   "id": "ccef0aa4",
   "metadata": {},
   "source": [
    "### Power Exchange with Electricity Grid related to Wind Generation and Prices"
   ]
  },
  {
   "cell_type": "code",
   "execution_count": null,
   "id": "6a27655e",
   "metadata": {},
   "outputs": [],
   "source": [
    "scenarios = ['flex_profit', 'const_profit', 'eafonly_profit', \n",
    "             'flex_stability', 'const_stability', 'eafonly_stability']\n",
    "\n",
    "figure, (axes_1, axes_2) = plt.subplots(nrows=2, ncols=3, figsize=(11, 6))\n",
    "axes = np.append(axes_1, axes_2)\n",
    "\n",
    "from matplotlib.colors import TwoSlopeNorm\n",
    "norm = TwoSlopeNorm(vmin=-16, vcenter=42, vmax=100)\n",
    "\n",
    "box_plot_liste = []\n",
    "\n",
    "for scenario, ax, color in zip(scenarios, axes, colors): \n",
    "    model_data = fbp.load_model(f'2012_{scenario}')\n",
    "    plot = ax.scatter(model_data['renewable_generation'], model_data['power_exchange'], \n",
    "                      c=model_data['electricity_price'], s=0.5, cmap='RdYlGn', norm=norm)\n",
    "\n",
    "axes[0].set_title('Demand Response Steel Making')\n",
    "axes[1].set_title('Constant Steel Making')\n",
    "axes[2].set_title('H2-DRI Import')\n",
    "\n",
    "pad = 20 # in points\n",
    "axes[0].annotate(\n",
    "    'Maximise Profit', xy=(0, 0.5), xytext=(-ax.yaxis.labelpad - pad, 0),\n",
    "    xycoords=axes[0].yaxis.label, textcoords='offset points', size='large', \n",
    "    ha='right', va='center'\n",
    ")\n",
    "axes[3].annotate(\n",
    "    'Minimise Deviation\\nof Goal Load', xy=(0, 0.5), xytext=(-ax.yaxis.labelpad - pad, 0),\n",
    "    xycoords=axes[3].yaxis.label, textcoords='offset points', size='large', \n",
    "    ha='right', va='center'\n",
    ")\n",
    "figure.subplots_adjust(right=0.8)\n",
    "cbar_ax = figure.add_axes([0.85, 0.15, 0.05, 0.7])\n",
    "ticks = ['< -16', '0', '20', '40', '60', '80', '> 100']\n",
    "cbar = figure.colorbar(plot, label='Electricity Price in €/MWh',cax=cbar_ax)\n",
    "cbar.ax.set_yticklabels(ticks)\n",
    "\n",
    "figure.supxlabel('Renewable Generation in MW', fontsize='large')\n",
    "figure.supylabel('Power Exchange between Plant and Grid in MW', x=0.067, y=0.5, fontsize='large')\n",
    "figure.savefig(\"visualisations/wind_exchange_price.png\", bbox_inches='tight', dpi=300)"
   ]
  },
  {
   "cell_type": "markdown",
   "id": "aff80653",
   "metadata": {},
   "source": [
    "### Monthly Mean Storage Contents and Steel Production"
   ]
  },
  {
   "cell_type": "code",
   "execution_count": null,
   "id": "9d5d200f",
   "metadata": {},
   "outputs": [],
   "source": [
    "scenarios = ['flex_profit', 'flex_stability','const_profit', 'const_stability', 'eafonly_profit', 'eafonly_stability']\n",
    "scenario_labels = {\n",
    "    'flex_profit': 'DR STM - Objective: Max Profit',\n",
    "    'flex_stability': 'DR STM - Objective: Min Goal Load Deviation',\n",
    "    'const_profit': 'Constant STM - Objective: Max Profit',\n",
    "    'const_stability': 'Constant STM - Objective: Min Goal Load Deviation',\n",
    "    'eafonly_profit': 'DRI Import - Objective: Max Profit',\n",
    "    'eafonly_stability': 'DRI Import - Objective: Min Goal Load Deviation',\n",
    "}\n",
    "keys = ['DRI', 'Hydrogen Tank', 'Produced Steel']\n",
    "key_units = {'DRI': 'tons', 'Hydrogen Tank': 'MWh', 'Produced Steel': 'tons'}\n",
    "monthly_end_values = {}  \n",
    "monthly_mean_values = {}\n",
    "\n",
    "month_names = {1: 'Jan', 2: 'Feb', 3:'Mar', 4: 'Apr', 5: 'May', 6: 'Jun', 7: 'Jul', 8: 'Aug', \n",
    "               9: 'Sep', 10: 'Oct', 11: 'Nov', 12: 'Dec'}\n",
    "\n",
    "for scenario in scenarios: \n",
    "    model_data = fbp.load.load_model(f'2012_{scenario}')\n",
    "    \n",
    "    monthly_end_values[scenario] = {key: {} for key in keys}\n",
    "    monthly_mean_values[scenario] = {key: {} for key in keys if key != 'Produced Steel'}\n",
    "\n",
    "    for i in range(1, 13):\n",
    "        if i == 12 and (scenario == 'flex_stability' or scenario == 'const_stability'):\n",
    "            monthly_end_values[scenario]['DRI'][month_names[i]] = model_data['DRI_storage_content'][i*4392-2]\n",
    "            monthly_end_values[scenario]['Hydrogen Tank'][month_names[i]] = model_data['tank_hydrogen_content'][i*4392-2]\n",
    "            monthly_end_values[scenario]['Produced Steel'][month_names[i]] = model_data['steel_produced'][i*4392-2] - model_data['steel_produced'][(i-1)*4392]\n",
    "\n",
    "            monthly_mean_values[scenario]['DRI'][month_names[i]] = np.mean(model_data['DRI_storage_content'][(i-1)*4392:i*4392-2])\n",
    "            monthly_mean_values[scenario]['Hydrogen Tank'][month_names[i]] = np.mean(model_data['tank_hydrogen_content'][(i-1)*4392:i*4392-2])\n",
    "\n",
    "        else:\n",
    "            monthly_end_values[scenario]['DRI'][month_names[i]] = model_data['DRI_storage_content'][i*4392-1]\n",
    "            monthly_end_values[scenario]['Hydrogen Tank'][month_names[i]] = model_data['tank_hydrogen_content'][i*4392-1]\n",
    "            monthly_end_values[scenario]['Produced Steel'][month_names[i]] = model_data['steel_produced'][i*4392-1] - model_data['steel_produced'][(i-1)*4392]\n",
    "\n",
    "            monthly_mean_values[scenario]['DRI'][month_names[i]] = np.mean(model_data['DRI_storage_content'][(i-1)*4392:i*4392-1])\n",
    "            monthly_mean_values[scenario]['Hydrogen Tank'][month_names[i]] = np.mean(model_data['tank_hydrogen_content'][(i-1)*4392:i*4392-1])\n",
    "    "
   ]
  },
  {
   "cell_type": "code",
   "execution_count": null,
   "id": "2dc7d870",
   "metadata": {},
   "outputs": [],
   "source": [
    "figure, axes = plt.subplots(3, sharex=True, figsize=(9, 9))\n",
    "\n",
    "for ax, key in zip(axes[:2], keys):\n",
    "    for scenario in scenarios:\n",
    "        ax.plot(monthly_mean_values[scenario][key].keys(), monthly_mean_values[scenario][key].values(), label=scenario_labels[scenario])\n",
    "    ax.set_title(f'Mean Monthly {key} Storage Content')\n",
    "    ax.set_ylabel(key_units[key])\n",
    "\n",
    "for scenario in scenarios: \n",
    "    axes[2].plot(monthly_end_values[scenario]['Produced Steel'].keys(), \n",
    "                 monthly_end_values[scenario]['Produced Steel'].values(), \n",
    "                 label=scenario_labels[scenario])\n",
    "\n",
    "axes[2].set_title('Produced Steel')\n",
    "axes[2].set_ylabel('tons')\n",
    "\n",
    "axes[1].legend()\n",
    "figure.savefig(\"visualisations/storage_contents_andsteel_production.png\", bbox_inches='tight', dpi=300)"
   ]
  }
 ],
 "metadata": {
  "kernelspec": {
   "display_name": "Python 3 (ipykernel)",
   "language": "python",
   "name": "python3"
  },
  "language_info": {
   "codemirror_mode": {
    "name": "ipython",
    "version": 3
   },
   "file_extension": ".py",
   "mimetype": "text/x-python",
   "name": "python",
   "nbconvert_exporter": "python",
   "pygments_lexer": "ipython3",
   "version": "3.13.3"
  }
 },
 "nbformat": 4,
 "nbformat_minor": 5
}
